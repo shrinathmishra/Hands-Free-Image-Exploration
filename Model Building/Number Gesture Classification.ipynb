{
 "cells": [
  {
   "cell_type": "markdown",
   "metadata": {},
   "source": [
    "# Number Gesture Classification using CNN"
   ]
  },
  {
   "cell_type": "markdown",
   "metadata": {},
   "source": [
    "### Importing Neccessary Libraries"
   ]
  },
  {
   "cell_type": "code",
   "execution_count": 1,
   "metadata": {},
   "outputs": [
    {
     "name": "stderr",
     "output_type": "stream",
     "text": [
      "Using TensorFlow backend.\n"
     ]
    }
   ],
   "source": [
    "import numpy as np#used for numerical analysis\n",
    "import tensorflow #open source used for both ML and DL for computation\n",
    "from tensorflow.keras.models import Sequential #it is a plain stack of layers\n",
    "from tensorflow.keras import layers #A layer consists of a tensor-in tensor-out computation function\n",
    "#Dense layer is the regular deeply connected neural network layer\n",
    "from tensorflow.keras.layers import Dense,Flatten\n",
    "#Faltten-used fot flattening the input or change the dimension\n",
    "from tensorflow.keras.layers import Conv2D,MaxPooling2D #Convolutional layer\n",
    "#MaxPooling2D-for downsampling the image\n",
    "from keras.preprocessing.image import ImageDataGenerator\n"
   ]
  },
  {
   "cell_type": "markdown",
   "metadata": {},
   "source": [
    "### Image Data Agumentation"
   ]
  },
  {
   "cell_type": "code",
   "execution_count": 23,
   "metadata": {},
   "outputs": [],
   "source": [
    "#setting parameter for Image Data agumentation to the traing data\n",
    "train_datagen = ImageDataGenerator(rescale=1./255,shear_range=0.2,zoom_range=0.2,horizontal_flip=True)\n",
    "#Image Data agumentation to the testing data\n",
    "test_datagen=ImageDataGenerator(rescale=1./255)"
   ]
  },
  {
   "cell_type": "code",
   "execution_count": 24,
   "metadata": {},
   "outputs": [],
   "source": []
  },
  {
   "cell_type": "markdown",
   "metadata": {},
   "source": [
    "### Loading our data and performing data agumentation"
   ]
  },
  {
   "cell_type": "code",
   "execution_count": 25,
   "metadata": {},
   "outputs": [
    {
     "name": "stdout",
     "output_type": "stream",
     "text": [
      "Found 600 images belonging to 6 classes.\n",
      "Found 30 images belonging to 6 classes.\n"
     ]
    }
   ],
   "source": [
    "#performing data agumentation to train data\n",
    "x_train = train_datagen.flow_from_directory('data/train',target_size=(64, 64),batch_size=5,\n",
    "                                            color_mode='grayscale',class_mode='categorical')\n",
    "#performing data agumentation to test data\n",
    "x_test = test_datagen.flow_from_directory('data/test',target_size=(64, 64),batch_size=5,\n",
    "                                            color_mode='grayscale',class_mode='categorical') "
   ]
  },
  {
   "cell_type": "code",
   "execution_count": 26,
   "metadata": {},
   "outputs": [
    {
     "name": "stdout",
     "output_type": "stream",
     "text": [
      "{'0': 0, '1': 1, '2': 2, '3': 3, '4': 4, '5': 5}\n"
     ]
    }
   ],
   "source": [
    "print(x_train.class_indices)#checking the number of classes"
   ]
  },
  {
   "cell_type": "code",
   "execution_count": 27,
   "metadata": {},
   "outputs": [
    {
     "data": {
      "text/plain": [
       "Counter({0: 100, 1: 100, 2: 100, 3: 100, 4: 100, 5: 100})"
      ]
     },
     "execution_count": 27,
     "metadata": {},
     "output_type": "execute_result"
    }
   ],
   "source": [
    "from collections import Counter as c\n",
    "c(x_train .labels)"
   ]
  },
  {
   "cell_type": "markdown",
   "metadata": {},
   "source": [
    "### Creating the model"
   ]
  },
  {
   "cell_type": "code",
   "execution_count": 28,
   "metadata": {},
   "outputs": [],
   "source": [
    "# Initializing the CNN\n",
    "classifier = Sequential()\n",
    "\n",
    "# First convolution layer and pooling\n",
    "classifier.add(Conv2D(32, (3, 3), input_shape=(64, 64, 1), activation='relu'))\n",
    "classifier.add(MaxPooling2D(pool_size=(2, 2)))\n",
    "# Second convolution layer and pooling\n",
    "classifier.add(Conv2D(32, (3, 3), activation='relu'))\n",
    "# input_shape is going to be the pooled feature maps from the previous convolution layer\n",
    "classifier.add(MaxPooling2D(pool_size=(2, 2)))\n",
    "\n",
    "# Flattening the layers\n",
    "classifier.add(Flatten())\n",
    "\n",
    "# Adding a fully connected layer\n",
    "classifier.add(Dense(units=128, activation='relu'))\n",
    "classifier.add(Dense(units=6, activation='softmax')) # softmax for more than 2\n",
    "\n"
   ]
  },
  {
   "cell_type": "code",
   "execution_count": 29,
   "metadata": {},
   "outputs": [
    {
     "name": "stdout",
     "output_type": "stream",
     "text": [
      "Model: \"sequential_4\"\n",
      "_________________________________________________________________\n",
      "Layer (type)                 Output Shape              Param #   \n",
      "=================================================================\n",
      "conv2d_6 (Conv2D)            (None, 62, 62, 32)        320       \n",
      "_________________________________________________________________\n",
      "max_pooling2d_6 (MaxPooling2 (None, 31, 31, 32)        0         \n",
      "_________________________________________________________________\n",
      "conv2d_7 (Conv2D)            (None, 29, 29, 32)        9248      \n",
      "_________________________________________________________________\n",
      "max_pooling2d_7 (MaxPooling2 (None, 14, 14, 32)        0         \n",
      "_________________________________________________________________\n",
      "flatten_3 (Flatten)          (None, 6272)              0         \n",
      "_________________________________________________________________\n",
      "dense_6 (Dense)              (None, 128)               802944    \n",
      "_________________________________________________________________\n",
      "dense_7 (Dense)              (None, 6)                 774       \n",
      "=================================================================\n",
      "Total params: 813,286\n",
      "Trainable params: 813,286\n",
      "Non-trainable params: 0\n",
      "_________________________________________________________________\n"
     ]
    }
   ],
   "source": [
    "classifier.summary()#summary of our model"
   ]
  },
  {
   "cell_type": "markdown",
   "metadata": {},
   "source": [
    "### Compiling the model"
   ]
  },
  {
   "cell_type": "code",
   "execution_count": 30,
   "metadata": {},
   "outputs": [],
   "source": [
    "# Compiling the CNN\n",
    "# categorical_crossentropy for more than 2\n",
    "classifier.compile(optimizer='adam', loss='categorical_crossentropy', metrics=['accuracy']) "
   ]
  },
  {
   "cell_type": "markdown",
   "metadata": {},
   "source": [
    "## Fitting the model"
   ]
  },
  {
   "cell_type": "code",
   "execution_count": 31,
   "metadata": {},
   "outputs": [
    {
     "name": "stdout",
     "output_type": "stream",
     "text": [
      "Epoch 1/20\n",
      "120/120 [==============================] - 6s 54ms/step - loss: 1.5406 - accuracy: 0.3667 - val_loss: 0.9710 - val_accuracy: 0.5667\n",
      "Epoch 2/20\n",
      "120/120 [==============================] - 6s 52ms/step - loss: 0.7372 - accuracy: 0.7133 - val_loss: 0.4782 - val_accuracy: 0.8000\n",
      "Epoch 3/20\n",
      "120/120 [==============================] - 5s 41ms/step - loss: 0.4904 - accuracy: 0.7950 - val_loss: 0.8232 - val_accuracy: 0.7000\n",
      "Epoch 4/20\n",
      "120/120 [==============================] - 5s 43ms/step - loss: 0.4080 - accuracy: 0.8367 - val_loss: 0.2943 - val_accuracy: 0.8667\n",
      "Epoch 5/20\n",
      "120/120 [==============================] - 5s 39ms/step - loss: 0.2905 - accuracy: 0.8850 - val_loss: 0.3520 - val_accuracy: 0.9000\n",
      "Epoch 6/20\n",
      "120/120 [==============================] - 6s 46ms/step - loss: 0.2370 - accuracy: 0.9133 - val_loss: 0.3324 - val_accuracy: 0.8667\n",
      "Epoch 7/20\n",
      "120/120 [==============================] - 6s 47ms/step - loss: 0.2347 - accuracy: 0.9217 - val_loss: 0.1927 - val_accuracy: 0.9667\n",
      "Epoch 8/20\n",
      "120/120 [==============================] - 5s 45ms/step - loss: 0.1327 - accuracy: 0.9583 - val_loss: 0.3066 - val_accuracy: 0.9333\n",
      "Epoch 9/20\n",
      "120/120 [==============================] - 6s 47ms/step - loss: 0.1344 - accuracy: 0.9617 - val_loss: 0.3705 - val_accuracy: 0.8333\n",
      "Epoch 10/20\n",
      "120/120 [==============================] - 7s 61ms/step - loss: 0.1146 - accuracy: 0.9600 - val_loss: 0.1591 - val_accuracy: 0.9333\n",
      "Epoch 11/20\n",
      "120/120 [==============================] - 7s 57ms/step - loss: 0.1325 - accuracy: 0.9517 - val_loss: 0.2669 - val_accuracy: 0.9333\n",
      "Epoch 12/20\n",
      "120/120 [==============================] - 7s 55ms/step - loss: 0.1061 - accuracy: 0.9633 - val_loss: 0.2279 - val_accuracy: 0.9000\n",
      "Epoch 13/20\n",
      "120/120 [==============================] - 7s 55ms/step - loss: 0.0924 - accuracy: 0.9633 - val_loss: 0.2637 - val_accuracy: 0.9000\n",
      "Epoch 14/20\n",
      "120/120 [==============================] - 8s 64ms/step - loss: 0.1161 - accuracy: 0.9583 - val_loss: 0.1851 - val_accuracy: 0.9333\n",
      "Epoch 15/20\n",
      "120/120 [==============================] - 7s 56ms/step - loss: 0.0421 - accuracy: 0.9900 - val_loss: 0.2790 - val_accuracy: 0.9000\n",
      "Epoch 16/20\n",
      "120/120 [==============================] - 5s 45ms/step - loss: 0.0567 - accuracy: 0.9867 - val_loss: 0.0773 - val_accuracy: 0.9667\n",
      "Epoch 17/20\n",
      "120/120 [==============================] - 5s 46ms/step - loss: 0.0354 - accuracy: 0.9917 - val_loss: 0.2060 - val_accuracy: 0.9000\n",
      "Epoch 18/20\n",
      "120/120 [==============================] - 5s 46ms/step - loss: 0.0384 - accuracy: 0.9817 - val_loss: 0.4944 - val_accuracy: 0.9000\n",
      "Epoch 19/20\n",
      "120/120 [==============================] - 6s 50ms/step - loss: 0.0763 - accuracy: 0.9817 - val_loss: 0.2188 - val_accuracy: 0.9333\n",
      "Epoch 20/20\n",
      "120/120 [==============================] - 7s 58ms/step - loss: 0.0339 - accuracy: 0.9883 - val_loss: 0.1125 - val_accuracy: 0.9667\n"
     ]
    },
    {
     "data": {
      "text/plain": [
       "<tensorflow.python.keras.callbacks.History at 0x1bd3f17a550>"
      ]
     },
     "execution_count": 31,
     "metadata": {},
     "output_type": "execute_result"
    }
   ],
   "source": [
    "classifier.fit_generator(\n",
    "        generator=x_train,steps_per_epoch = len(x_train),\n",
    "        epochs=20, validation_data=x_test,validation_steps = len(x_test))# No of images in test set"
   ]
  },
  {
   "cell_type": "markdown",
   "metadata": {},
   "source": [
    "### Saving our model"
   ]
  },
  {
   "cell_type": "code",
   "execution_count": 32,
   "metadata": {},
   "outputs": [],
   "source": [
    "# Save the model\n",
    "classifier.save('gesture.h5')"
   ]
  },
  {
   "cell_type": "code",
   "execution_count": 33,
   "metadata": {},
   "outputs": [],
   "source": [
    "model_json = classifier.to_json()\n",
    "with open(\"model-bw.json\", \"w\") as json_file:\n",
    "    json_file.write(model_json)"
   ]
  },
  {
   "cell_type": "code",
   "execution_count": null,
   "metadata": {},
   "outputs": [],
   "source": []
  },
  {
   "cell_type": "markdown",
   "metadata": {},
   "source": [
    "### Predicting our results"
   ]
  },
  {
   "cell_type": "code",
   "execution_count": 62,
   "metadata": {},
   "outputs": [],
   "source": [
    "from tensorflow.keras.models import load_model\n",
    "from keras.preprocessing import image\n",
    "model = load_model(\"gesture.h5\") #loading the model for testing"
   ]
  },
  {
   "cell_type": "code",
   "execution_count": 69,
   "metadata": {},
   "outputs": [
    {
     "data": {
      "text/plain": [
       "array([1], dtype=int64)"
      ]
     },
     "execution_count": 69,
     "metadata": {},
     "output_type": "execute_result"
    }
   ],
   "source": [
    "img = image.load_img(r\"E:\\PROJECTS\\number-sign-recognition\\data\\test\\1\\1.jpg\",grayscale=True,\n",
    "                     target_size= (64,64))#loading of the image\n",
    "x = image.img_to_array(img)#image to array\n",
    "x = np.expand_dims(x,axis = 0)#changing the shape\n",
    "pred = model.predict_classes(x)#predicting the classes\n",
    "pred"
   ]
  },
  {
   "cell_type": "code",
   "execution_count": 71,
   "metadata": {},
   "outputs": [
    {
     "data": {
      "text/plain": [
       "'1'"
      ]
     },
     "execution_count": 71,
     "metadata": {},
     "output_type": "execute_result"
    }
   ],
   "source": [
    "index=['0','1','2','3','4','5']\n",
    "result=str(index[pred[0]])\n",
    "result"
   ]
  }
 ],
 "metadata": {
  "kernelspec": {
   "display_name": "Python 3",
   "language": "python",
   "name": "python3"
  },
  "language_info": {
   "codemirror_mode": {
    "name": "ipython",
    "version": 3
   },
   "file_extension": ".py",
   "mimetype": "text/x-python",
   "name": "python",
   "nbconvert_exporter": "python",
   "pygments_lexer": "ipython3",
   "version": "3.8.3"
  }
 },
 "nbformat": 4,
 "nbformat_minor": 4
}
